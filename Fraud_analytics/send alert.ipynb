{
 "cells": [
  {
   "cell_type": "code",
   "execution_count": 0,
   "metadata": {
    "application/vnd.databricks.v1+cell": {
     "cellMetadata": {
      "byteLimit": 2048000,
      "rowLimit": 10000
     },
     "inputWidgets": {},
     "nuid": "4e74ce3b-5214-445c-986e-983e2b789daa",
     "showTitle": false,
     "tableResultSettingsMap": {},
     "title": ""
    }
   },
   "outputs": [],
   "source": [
    "import smtplib\n",
    "from email.mime.text import MIMEText"
   ]
  },
  {
   "cell_type": "code",
   "execution_count": 0,
   "metadata": {
    "application/vnd.databricks.v1+cell": {
     "cellMetadata": {
      "byteLimit": 2048000,
      "rowLimit": 10000
     },
     "inputWidgets": {},
     "nuid": "8ca38980-e483-41f5-87e1-0fdd032dd964",
     "showTitle": false,
     "tableResultSettingsMap": {},
     "title": ""
    }
   },
   "outputs": [
    {
     "name": "stdout",
     "output_type": "stream",
     "text": [
      "testing mail sent succefully\n"
     ]
    }
   ],
   "source": [
    "SMTP_SERVER = \"smtp.gmail.com\"  # Using Gmail's SMTP server\n",
    "SMTP_PORT = 587\n",
    "EMAIL_SENDER = \"pradumkumar0612@gmail.com\"  # Replace with your email\n",
    "EMAIL_PASSWORD = \"Replace with your email app password\"\n",
    "EMAIL_RECEIVER = \"pradumjaiswar790@gmail.com\"  # Replace with recipient email\n",
    "\n",
    "# ✅ Email Body\n",
    "subject = \"🚀 Test Email: Fraud Alert System\"\n",
    "body = \"This is a test email to verify if SMTP works.\"\n",
    "\n",
    "msg = MIMEText(body, \"plain\")\n",
    "msg[\"Subject\"] = subject\n",
    "msg[\"From\"] = EMAIL_SENDER\n",
    "msg[\"To\"] = EMAIL_RECEIVER\n",
    "\n",
    "try :\n",
    "    server = smtplib.SMTP(SMTP_SERVER,SMTP_PORT)\n",
    "    server.starttls()\n",
    "    server.login(EMAIL_SENDER,EMAIL_PASSWORD)\n",
    "    server.sendmail(EMAIL_SENDER,EMAIL_RECEIVER,msg.as_string())\n",
    "    server.quit()\n",
    "    print(\"testing mail sent succefully\")\n",
    "except Exception as e :\n",
    "    print(e)"
   ]
  },
  {
   "cell_type": "code",
   "execution_count": 0,
   "metadata": {
    "application/vnd.databricks.v1+cell": {
     "cellMetadata": {
      "byteLimit": 2048000,
      "rowLimit": 10000
     },
     "inputWidgets": {},
     "nuid": "e653fc9b-c29a-46e2-8598-9c85cacb1bc8",
     "showTitle": false,
     "tableResultSettingsMap": {},
     "title": ""
    }
   },
   "outputs": [
    {
     "name": "stdout",
     "output_type": "stream",
     "text": [
      "testing mail sent succefully\n"
     ]
    }
   ],
   "source": [
    "SMTP_SERVER = \"smtp.gmail.com\"  # Using Gmail's SMTP server\n",
    "SMTP_PORT = 587\n",
    "EMAIL_SENDER = \"pradumkumar0612@gmail.com\"  # Replace with your email\n",
    "EMAIL_PASSWORD = \"Replace with your email app password\"\n",
    "EMAIL_RECEIVER = \"pradumjaiswar790@gmail.com\"  # Replace with recipient email\n",
    "\n",
    "# ✅ Email Body\n",
    "subject = \"🚀 Test Email: Fraud Alert System\"\n",
    "body = \"This is a test email to verify if SMTP works.\"\n",
    "\n",
    "msg = MIMEText(body, \"plain\")\n",
    "msg[\"Subject\"] = subject\n",
    "msg[\"From\"] = EMAIL_SENDER\n",
    "msg[\"To\"] = EMAIL_RECEIVER\n",
    "\n",
    "try :\n",
    "    server = smtplib.SMTP(SMTP_SERVER,SMTP_PORT)\n",
    "    server.starttls()\n",
    "    server.login(EMAIL_SENDER,EMAIL_PASSWORD)\n",
    "    server.sendmail(EMAIL_SENDER,EMAIL_RECEIVER,msg.as_string())\n",
    "    server.quit()\n",
    "    print(\"testing mail sent succefully\")\n",
    "except Exception as e :\n",
    "    print(e)"
   ]
  },
  {
   "cell_type": "code",
   "execution_count": 0,
   "metadata": {
    "application/vnd.databricks.v1+cell": {
     "cellMetadata": {
      "byteLimit": 2048000,
      "rowLimit": 10000
     },
     "inputWidgets": {},
     "nuid": "828a9fe9-5fd7-4765-83c3-2d76b78c7d61",
     "showTitle": false,
     "tableResultSettingsMap": {},
     "title": ""
    }
   },
   "outputs": [
    {
     "name": "stdout",
     "output_type": "stream",
     "text": [
      "🚀 Monitoring MongoDB for Fraud Transactions...\n",
      "🚨 New Fraud Transaction Detected: {'_id': ObjectId('67ddb9f10df8efa4962962de'), 'transaction_id': 'e52416ba-136c-4b89-8646-26a7218fcf13', 'timestamp': 1742584305, 'user_id': 83413, 'amount': 4186.97, 'transaction_type': 'withdrawal', 'location': 'Deannaland', 'mearchant': 'Allen, Bell and Gomez', 'card_number': '503846909631'}\n",
      "📩 Email Alert Sent Successfully!\n",
      "🚨 New Fraud Transaction Detected: {'_id': ObjectId('67ddb9fd0df8efa4962962df'), 'transaction_id': '84737d0b-880d-4671-995e-0546aba54983', 'timestamp': 1742584317, 'user_id': 74785, 'amount': 4156.97, 'transaction_type': 'purchase', 'location': 'Hamiltonburgh', 'mearchant': 'Shaffer, Mcintyre and Mueller', 'card_number': '3585674700858862'}\n",
      "📩 Email Alert Sent Successfully!\n",
      "🚨 New Fraud Transaction Detected: {'_id': ObjectId('67ddba010df8efa4962962e0'), 'transaction_id': 'b578168b-d01e-4c94-8bf5-0eb280b92ca3', 'timestamp': 1742584321, 'user_id': 95574, 'amount': 4178.57, 'transaction_type': 'purchase', 'location': 'Dianeview', 'mearchant': 'Robinson-Green', 'card_number': '30381579912179'}\n",
      "📩 Email Alert Sent Successfully!\n",
      "🚨 New Fraud Transaction Detected: {'_id': ObjectId('67ddba030df8efa4962962e1'), 'transaction_id': '4f907741-545e-4b3f-84e5-9c00df14898d', 'timestamp': 1742584323, 'user_id': 63096, 'amount': 4181.84, 'transaction_type': 'purchase', 'location': 'Craigborough', 'mearchant': 'Sullivan Ltd', 'card_number': '4665996749038490'}\n",
      "📩 Email Alert Sent Successfully!\n",
      "🚨 New Fraud Transaction Detected: {'_id': ObjectId('67ddba0b0df8efa4962962e2'), 'transaction_id': '43c06050-ea32-40de-bf57-a583b615713e', 'timestamp': 1742584330, 'user_id': 74444, 'amount': 4339.43, 'transaction_type': 'purchase', 'location': 'Port Brittany', 'mearchant': 'Rice-Serrano', 'card_number': '3534562923038994'}\n",
      "📩 Email Alert Sent Successfully!\n",
      "🚨 New Fraud Transaction Detected: {'_id': ObjectId('67ddba0f0df8efa4962962e3'), 'transaction_id': '8b18ed3c-3804-424e-8d98-4314bed3cf67', 'timestamp': 1742584335, 'user_id': 40684, 'amount': 4129.36, 'transaction_type': 'transfer', 'location': 'Michaelville', 'mearchant': 'Ramirez, Rodriguez and Cohen', 'card_number': '4042342812581'}\n",
      "📩 Email Alert Sent Successfully!\n",
      "🚨 New Fraud Transaction Detected: {'_id': ObjectId('67ddba130df8efa4962962e4'), 'transaction_id': 'b8808cbe-579f-453e-862f-0041bce88e24', 'timestamp': 1742584339, 'user_id': 35987, 'amount': 4082.54, 'transaction_type': 'transfer', 'location': 'South Austin', 'mearchant': 'Larsen Group', 'card_number': '2260376103448416'}\n",
      "📩 Email Alert Sent Successfully!\n",
      "🚨 New Fraud Transaction Detected: {'_id': ObjectId('67ddba1c0df8efa4962962e5'), 'transaction_id': 'f634f400-165a-416e-a2ec-302862586e99', 'timestamp': 1742584348, 'user_id': 29180, 'amount': 4967.91, 'transaction_type': 'withdrawal', 'location': 'Kristinamouth', 'mearchant': 'Smith-Sanchez', 'card_number': '346743719894907'}\n",
      "📩 Email Alert Sent Successfully!\n",
      "🚨 New Fraud Transaction Detected: {'_id': ObjectId('67ddba330df8efa4962962e6'), 'transaction_id': '6a86bd70-ec84-48cc-a195-45bbbe888b40', 'timestamp': 1742584371, 'user_id': 76605, 'amount': 4194.46, 'transaction_type': 'purchase', 'location': 'Lake Justin', 'mearchant': 'Chaney Ltd', 'card_number': '180034594275274'}\n",
      "📩 Email Alert Sent Successfully!\n",
      "🚨 New Fraud Transaction Detected: {'_id': ObjectId('67ddba390df8efa4962962e7'), 'transaction_id': '73c37536-bf5c-4d6f-975a-397407c1afb2', 'timestamp': 1742584377, 'user_id': 36974, 'amount': 4214.97, 'transaction_type': 'transfer', 'location': 'Christinamouth', 'mearchant': 'Bautista, Short and Roy', 'card_number': '4484650373998'}\n",
      "📩 Email Alert Sent Successfully!\n",
      "🚨 New Fraud Transaction Detected: {'_id': ObjectId('67ddba3f0df8efa4962962e8'), 'transaction_id': 'd6e2632a-a98c-451e-9e29-b9279d6a81ae', 'timestamp': 1742584383, 'user_id': 68189, 'amount': 4399.49, 'transaction_type': 'transfer', 'location': 'Angelahaven', 'mearchant': 'Perez, Mckinney and Lopez', 'card_number': '3556825226966614'}\n",
      "📩 Email Alert Sent Successfully!\n",
      "🚨 New Fraud Transaction Detected: {'_id': ObjectId('67ddba470df8efa4962962e9'), 'transaction_id': '8e00e7fd-1862-40a9-9308-56eba3404140', 'timestamp': 1742584391, 'user_id': 30424, 'amount': 4415.46, 'transaction_type': 'withdrawal', 'location': 'East Chelseafort', 'mearchant': 'Murray, Rasmussen and Berger', 'card_number': '371560599255365'}\n",
      "📩 Email Alert Sent Successfully!\n",
      "🚨 New Fraud Transaction Detected: {'_id': ObjectId('67ddba4e0df8efa4962962ea'), 'transaction_id': '019bbc3f-0add-4e99-afde-6e6194497f42', 'timestamp': 1742584398, 'user_id': 14211, 'amount': 4006.16, 'transaction_type': 'withdrawal', 'location': 'New Jermaine', 'mearchant': 'Ruiz-Silva', 'card_number': '180096048959001'}\n",
      "📩 Email Alert Sent Successfully!\n",
      "🚨 New Fraud Transaction Detected: {'_id': ObjectId('67ddba520df8efa4962962eb'), 'transaction_id': '7c84c1fb-09ad-41c2-912f-50391e013c25', 'timestamp': 1742584402, 'user_id': 22951, 'amount': 4735.6, 'transaction_type': 'transfer', 'location': 'Port Briannaville', 'mearchant': 'Lee-Browning', 'card_number': '3592579940216352'}\n",
      "📩 Email Alert Sent Successfully!\n",
      "🚨 New Fraud Transaction Detected: {'_id': ObjectId('67ddba540df8efa4962962ec'), 'transaction_id': 'eeccab35-50a5-494c-9c3b-cd021e902d4a', 'timestamp': 1742584404, 'user_id': 35585, 'amount': 4004.08, 'transaction_type': 'transfer', 'location': 'Port Erikbury', 'mearchant': 'Edwards-Price', 'card_number': '370561132525513'}\n",
      "📩 Email Alert Sent Successfully!\n",
      "🚨 New Fraud Transaction Detected: {'_id': ObjectId('67ddba570df8efa4962962ed'), 'transaction_id': '4f7dbcae-7ad7-4c19-a780-d29fd4870673', 'timestamp': 1742584406, 'user_id': 25694, 'amount': 4589.56, 'transaction_type': 'purchase', 'location': 'West Kendraton', 'mearchant': 'Allen-Adams', 'card_number': '5345262731407986'}\n",
      "📩 Email Alert Sent Successfully!\n",
      "🚨 New Fraud Transaction Detected: {'_id': ObjectId('67ddba590df8efa4962962ee'), 'transaction_id': 'b2434a66-8511-4176-88f0-816eb0c8675c', 'timestamp': 1742584409, 'user_id': 14502, 'amount': 4568.62, 'transaction_type': 'transfer', 'location': 'Courtneyville', 'mearchant': 'Nelson, Monroe and Lindsey', 'card_number': '3500122890312193'}\n",
      "📩 Email Alert Sent Successfully!\n",
      "🚨 New Fraud Transaction Detected: {'_id': ObjectId('67ddba5f0df8efa4962962ef'), 'transaction_id': 'f0b9dfc2-4c32-4216-afe6-b5ba370a13be', 'timestamp': 1742584415, 'user_id': 82329, 'amount': 4616.13, 'transaction_type': 'purchase', 'location': 'Nobletown', 'mearchant': 'Johnston Inc', 'card_number': '3553418987866588'}\n",
      "📩 Email Alert Sent Successfully!\n",
      "🚨 New Fraud Transaction Detected: {'_id': ObjectId('67ddba600df8efa4962962f0'), 'transaction_id': '46808c36-a784-4ae5-ab7c-0792c184f259', 'timestamp': 1742584416, 'user_id': 77285, 'amount': 4632.2, 'transaction_type': 'purchase', 'location': 'Snyderchester', 'mearchant': 'Stokes PLC', 'card_number': '2450786492653345'}\n",
      "📩 Email Alert Sent Successfully!\n",
      "🚨 New Fraud Transaction Detected: {'_id': ObjectId('67ddba610df8efa4962962f1'), 'transaction_id': '9a16e54f-802d-4fc0-b6d5-99e29c4a3f25', 'timestamp': 1742584417, 'user_id': 41799, 'amount': 4099.23, 'transaction_type': 'withdrawal', 'location': 'South Melissa', 'mearchant': 'Lopez PLC', 'card_number': '3582127999244321'}\n",
      "📩 Email Alert Sent Successfully!\n",
      "🚨 New Fraud Transaction Detected: {'_id': ObjectId('67ddba650df8efa4962962f2'), 'transaction_id': '485d5d1f-9c00-4302-b6f6-7c3ce4c35154', 'timestamp': 1742584421, 'user_id': 74022, 'amount': 4013.13, 'transaction_type': 'transfer', 'location': 'Williamsbury', 'mearchant': 'Mays PLC', 'card_number': '3518138566386147'}\n",
      "📩 Email Alert Sent Successfully!\n",
      "🚨 New Fraud Transaction Detected: {'_id': ObjectId('67ddba6d0df8efa4962962f3'), 'transaction_id': 'a4aac3b3-e6d2-4f8e-94a0-5c36adbbb6f9', 'timestamp': 1742584429, 'user_id': 75836, 'amount': 4932.93, 'transaction_type': 'purchase', 'location': 'Port Jocelynfort', 'mearchant': 'Flores Ltd', 'card_number': '3596531967637776'}\n",
      "📩 Email Alert Sent Successfully!\n",
      "🚨 New Fraud Transaction Detected: {'_id': ObjectId('67ddba720df8efa4962962f4'), 'transaction_id': '33e4bbf1-0267-4882-b3f6-4562a35430f0', 'timestamp': 1742584434, 'user_id': 83213, 'amount': 4847.57, 'transaction_type': 'purchase', 'location': 'Lake Kenneth', 'mearchant': 'Wu-Moore', 'card_number': '6578824475347839'}\n",
      "📩 Email Alert Sent Successfully!\n",
      "🚨 New Fraud Transaction Detected: {'_id': ObjectId('67ddba730df8efa4962962f5'), 'transaction_id': '7395e873-2300-4ab8-a4a3-b0e0ab70ee8b', 'timestamp': 1742584435, 'user_id': 43623, 'amount': 4852.9, 'transaction_type': 'purchase', 'location': 'Lovestad', 'mearchant': 'Turner and Sons', 'card_number': '576428513559'}\n",
      "📩 Email Alert Sent Successfully!\n",
      "🚨 New Fraud Transaction Detected: {'_id': ObjectId('67ddba860df8efa4962962f6'), 'transaction_id': '150142be-e317-4c08-a0cc-3a8508b0258c', 'timestamp': 1742584454, 'user_id': 62147, 'amount': 4808.32, 'transaction_type': 'withdrawal', 'location': 'East Sean', 'mearchant': 'Hampton, Walsh and Hubbard', 'card_number': '3542755940827254'}\n",
      "📩 Email Alert Sent Successfully!\n",
      "🚨 New Fraud Transaction Detected: {'_id': ObjectId('67ddba8a0df8efa4962962f7'), 'transaction_id': '2973a54c-a0c7-42ff-a309-0b81f691a022', 'timestamp': 1742584458, 'user_id': 80757, 'amount': 4709.72, 'transaction_type': 'purchase', 'location': 'North Richard', 'mearchant': 'Padilla, Simpson and Olson', 'card_number': '3528443971263487'}\n",
      "📩 Email Alert Sent Successfully!\n",
      "🚨 New Fraud Transaction Detected: {'_id': ObjectId('67ddba8c0df8efa4962962f8'), 'transaction_id': 'ec5b76b5-4ab8-4122-9520-f84e6dd73794', 'timestamp': 1742584460, 'user_id': 84289, 'amount': 4258.35, 'transaction_type': 'withdrawal', 'location': 'West Christopher', 'mearchant': 'Greene, Short and Mejia', 'card_number': '503828524184'}\n",
      "📩 Email Alert Sent Successfully!\n",
      "🚨 New Fraud Transaction Detected: {'_id': ObjectId('67ddba8f0df8efa4962962f9'), 'transaction_id': '3a1fd30e-57cc-4299-be4c-582843cbe34f', 'timestamp': 1742584462, 'user_id': 61305, 'amount': 4268.4, 'transaction_type': 'transfer', 'location': 'Arthurborough', 'mearchant': 'Delgado-Wilson', 'card_number': '2266615666506688'}\n",
      "📩 Email Alert Sent Successfully!\n",
      "🚨 New Fraud Transaction Detected: {'_id': ObjectId('67ddba960df8efa4962962fa'), 'transaction_id': 'd8a75d69-5c9c-4279-a970-047bda0b91ff', 'timestamp': 1742584470, 'user_id': 95146, 'amount': 4311.34, 'transaction_type': 'transfer', 'location': 'East Loganton', 'mearchant': 'Mccall-Lutz', 'card_number': '675965962367'}\n",
      "📩 Email Alert Sent Successfully!\n",
      "🚨 New Fraud Transaction Detected: {'_id': ObjectId('67ddba9b0df8efa4962962fb'), 'transaction_id': 'b1e22bb1-72d6-429a-924a-b042e7251ecf', 'timestamp': 1742584474, 'user_id': 42182, 'amount': 4642.96, 'transaction_type': 'transfer', 'location': 'Kimberlychester', 'mearchant': 'Sims and Sons', 'card_number': '4619108333861975'}\n",
      "📩 Email Alert Sent Successfully!\n",
      "🚨 New Fraud Transaction Detected: {'_id': ObjectId('67ddba9e0df8efa4962962fc'), 'transaction_id': '58b1002c-5a8b-4ea5-b8a7-701c3757fdb1', 'timestamp': 1742584478, 'user_id': 96140, 'amount': 4609.12, 'transaction_type': 'withdrawal', 'location': 'Lemouth', 'mearchant': 'Perry-Skinner', 'card_number': '3540105829809191'}\n",
      "📩 Email Alert Sent Successfully!\n",
      "🚨 New Fraud Transaction Detected: {'_id': ObjectId('67ddbaa80df8efa4962962fd'), 'transaction_id': 'edc44634-55af-4fe0-b490-dbf4ac2701e0', 'timestamp': 1742584487, 'user_id': 70890, 'amount': 4220.89, 'transaction_type': 'transfer', 'location': 'East Brittney', 'mearchant': 'Vargas, Shepard and Hinton', 'card_number': '4264188518617918217'}\n",
      "📩 Email Alert Sent Successfully!\n",
      "🚨 New Fraud Transaction Detected: {'_id': ObjectId('67ddbaa90df8efa4962962fe'), 'transaction_id': '83cbbb42-0c8c-4541-958c-065ae562c375', 'timestamp': 1742584489, 'user_id': 66122, 'amount': 4961.14, 'transaction_type': 'purchase', 'location': 'Garciachester', 'mearchant': 'Allen-Johnson', 'card_number': '180029788714849'}\n",
      "📩 Email Alert Sent Successfully!\n",
      "🚨 New Fraud Transaction Detected: {'_id': ObjectId('67ddbaac0df8efa4962962ff'), 'transaction_id': '01c3ed4b-5b1a-4cf0-a2a0-431e2a11e0bf', 'timestamp': 1742584492, 'user_id': 90410, 'amount': 4588.37, 'transaction_type': 'transfer', 'location': 'Port Maria', 'mearchant': 'Davidson-Bowers', 'card_number': '38975696945137'}\n",
      "📩 Email Alert Sent Successfully!\n",
      "🚨 New Fraud Transaction Detected: {'_id': ObjectId('67ddbab60df8efa496296300'), 'transaction_id': '1cd5ed87-8356-4ca8-9fd2-bd282df50699', 'timestamp': 1742584502, 'user_id': 12573, 'amount': 4863.28, 'transaction_type': 'purchase', 'location': 'Nicholasview', 'mearchant': 'Welch Group', 'card_number': '676390998455'}\n",
      "📩 Email Alert Sent Successfully!\n",
      "🚨 New Fraud Transaction Detected: {'_id': ObjectId('67ddbabb0df8efa496296301'), 'transaction_id': 'a416a61e-718f-473b-9bc1-106b8a830136', 'timestamp': 1742584506, 'user_id': 37712, 'amount': 4977.2, 'transaction_type': 'transfer', 'location': 'South Markfurt', 'mearchant': 'Ellis Ltd', 'card_number': '4855281858503802'}\n",
      "📩 Email Alert Sent Successfully!\n",
      "🚨 New Fraud Transaction Detected: {'_id': ObjectId('67ddbac20df8efa496296302'), 'transaction_id': 'fe9d2301-f884-4b6c-986c-d0b1056ce504', 'timestamp': 1742584514, 'user_id': 87821, 'amount': 4923.72, 'transaction_type': 'purchase', 'location': 'West Crystal', 'mearchant': 'Roberson, Alvarez and Brady', 'card_number': '3541030368293277'}\n",
      "📩 Email Alert Sent Successfully!\n",
      "🚨 New Fraud Transaction Detected: {'_id': ObjectId('67ddbace0df8efa496296303'), 'transaction_id': '42d1394b-6997-4743-ba52-0c52f9a027c8', 'timestamp': 1742584526, 'user_id': 58061, 'amount': 4842.09, 'transaction_type': 'transfer', 'location': 'South Reneebury', 'mearchant': 'Richard-Bush', 'card_number': '4482224377710244'}\n",
      "📩 Email Alert Sent Successfully!\n",
      "🚨 New Fraud Transaction Detected: {'_id': ObjectId('67ddbad00df8efa496296304'), 'transaction_id': '57c0b895-b262-46f0-849b-e3efbf9b5172', 'timestamp': 1742584528, 'user_id': 17512, 'amount': 4702.98, 'transaction_type': 'withdrawal', 'location': 'West Christopherhaven', 'mearchant': 'Crawford, Rodriguez and Walsh', 'card_number': '213118290971103'}\n",
      "📩 Email Alert Sent Successfully!\n",
      "🚨 New Fraud Transaction Detected: {'_id': ObjectId('67ddbad40df8efa496296305'), 'transaction_id': '8da3a4d3-c338-4eaa-bfe2-cc5bb8e77947', 'timestamp': 1742584531, 'user_id': 17557, 'amount': 4418.39, 'transaction_type': 'transfer', 'location': 'Jeffreyfort', 'mearchant': 'Yoder-Stone', 'card_number': '4853775098872'}\n",
      "📩 Email Alert Sent Successfully!\n",
      "🚨 New Fraud Transaction Detected: {'_id': ObjectId('67ddbae20df8efa496296306'), 'transaction_id': '6b3fe673-58cc-4ac1-9256-75e5e60f594a', 'timestamp': 1742584546, 'user_id': 32427, 'amount': 4940.65, 'transaction_type': 'withdrawal', 'location': 'Baxterbury', 'mearchant': 'Baldwin Inc', 'card_number': '4305582682331'}\n",
      "📩 Email Alert Sent Successfully!\n",
      "🚨 New Fraud Transaction Detected: {'_id': ObjectId('67ddbaec0df8efa496296307'), 'transaction_id': '080d63a8-160f-4e58-ae26-144024e32f5a', 'timestamp': 1742584555, 'user_id': 55300, 'amount': 4910.26, 'transaction_type': 'transfer', 'location': 'Port Amanda', 'mearchant': 'Reed-Black', 'card_number': '4052728992477'}\n",
      "📩 Email Alert Sent Successfully!\n",
      "🚨 New Fraud Transaction Detected: {'_id': ObjectId('67ddbaee0df8efa496296308'), 'transaction_id': '0894cf14-8115-48a2-8d19-f2161a51a2df', 'timestamp': 1742584558, 'user_id': 51533, 'amount': 4807.14, 'transaction_type': 'purchase', 'location': 'East Larry', 'mearchant': 'Gray-Rodriguez', 'card_number': '4375319863199579'}\n",
      "📩 Email Alert Sent Successfully!\n",
      "🚨 New Fraud Transaction Detected: {'_id': ObjectId('67ddbaf50df8efa496296309'), 'transaction_id': '4597c8a6-ad48-4cb2-a031-ed66f2752a1e', 'timestamp': 1742584565, 'user_id': 91907, 'amount': 4732.41, 'transaction_type': 'withdrawal', 'location': 'Anthonyberg', 'mearchant': 'Baker and Sons', 'card_number': '4257691528535'}\n",
      "📩 Email Alert Sent Successfully!\n",
      "🚨 New Fraud Transaction Detected: {'_id': ObjectId('67ddbafa0df8efa49629630a'), 'transaction_id': '0860c07b-eca3-40af-ad96-610b4031658d', 'timestamp': 1742584570, 'user_id': 76998, 'amount': 4123.23, 'transaction_type': 'purchase', 'location': 'Port Michaelland', 'mearchant': 'Watson-Franco', 'card_number': '4836701538123063'}\n",
      "📩 Email Alert Sent Successfully!\n",
      "🚨 New Fraud Transaction Detected: {'_id': ObjectId('67ddbaff0df8efa49629630b'), 'transaction_id': 'fbdc6fb6-8b89-459d-bc2a-dd9b7ef38c9b', 'timestamp': 1742584574, 'user_id': 60746, 'amount': 4782.14, 'transaction_type': 'transfer', 'location': 'Shepardborough', 'mearchant': 'Young and Sons', 'card_number': '2243596870213881'}\n",
      "📩 Email Alert Sent Successfully!\n",
      "🚨 New Fraud Transaction Detected: {'_id': ObjectId('67ddbb000df8efa49629630c'), 'transaction_id': 'dbafe49c-d4ab-470f-97d8-ff94b6a6aba7', 'timestamp': 1742584576, 'user_id': 83755, 'amount': 4565.14, 'transaction_type': 'transfer', 'location': 'Beckhaven', 'mearchant': 'Flores, Thompson and Pope', 'card_number': '4012591091857637'}\n",
      "📩 Email Alert Sent Successfully!\n",
      "🚨 New Fraud Transaction Detected: {'_id': ObjectId('67ddbb0f0df8efa49629630d'), 'transaction_id': '9ced4a67-d75d-4a6e-b31b-bddc8a02a5ee', 'timestamp': 1742584591, 'user_id': 11920, 'amount': 4608.37, 'transaction_type': 'withdrawal', 'location': 'Port Ericville', 'mearchant': 'Perkins-Rose', 'card_number': '5107318197771527'}\n",
      "📩 Email Alert Sent Successfully!\n",
      "🚨 New Fraud Transaction Detected: {'_id': ObjectId('67ddbb120df8efa49629630f'), 'transaction_id': '2c2c9a3c-041f-45b5-95a6-41c4f42468e5', 'timestamp': 1742584593, 'user_id': 52753, 'amount': 4423.12, 'transaction_type': 'withdrawal', 'location': 'Burnschester', 'mearchant': 'George, Archer and Cunningham', 'card_number': '4458654764195429'}\n",
      "📩 Email Alert Sent Successfully!\n",
      "🚨 New Fraud Transaction Detected: {'_id': ObjectId('67ddbb160df8efa496296310'), 'transaction_id': '591b0b28-b805-4831-a974-983cda241992', 'timestamp': 1742584598, 'user_id': 65812, 'amount': 4294.81, 'transaction_type': 'transfer', 'location': 'Katieton', 'mearchant': 'Strickland-Morales', 'card_number': '373691812679236'}\n",
      "📩 Email Alert Sent Successfully!\n",
      "🚨 New Fraud Transaction Detected: {'_id': ObjectId('67ddbb380df8efa496296311'), 'transaction_id': '077db151-e815-4647-a372-be36e2ac1efe', 'timestamp': 1742584631, 'user_id': 62056, 'amount': 4294.24, 'transaction_type': 'withdrawal', 'location': 'Jordanland', 'mearchant': 'Serrano LLC', 'card_number': '3548788015008744'}\n",
      "📩 Email Alert Sent Successfully!\n",
      "🚨 New Fraud Transaction Detected: {'_id': ObjectId('67ddbb3b0df8efa496296312'), 'transaction_id': '2447a9ea-ee80-4d9d-8584-85d3e986c046', 'timestamp': 1742584635, 'user_id': 26698, 'amount': 4176.47, 'transaction_type': 'withdrawal', 'location': 'New Kyleside', 'mearchant': 'Mason, Lozano and Hughes', 'card_number': '4550778615311450'}\n",
      "📩 Email Alert Sent Successfully!\n",
      "🚨 New Fraud Transaction Detected: {'_id': ObjectId('67ddbb440df8efa496296313'), 'transaction_id': '355f7788-59d1-4e4c-8eda-566b333838c3', 'timestamp': 1742584643, 'user_id': 55045, 'amount': 4329.03, 'transaction_type': 'withdrawal', 'location': 'Xavierville', 'mearchant': 'Lynch-Banks', 'card_number': '349381127439739'}\n",
      "📩 Email Alert Sent Successfully!\n",
      "🚨 New Fraud Transaction Detected: {'_id': ObjectId('67ddbb460df8efa496296314'), 'transaction_id': 'b1e78d4b-5b77-43f0-86a8-ab49a08cb3f7', 'timestamp': 1742584646, 'user_id': 13899, 'amount': 4919.2, 'transaction_type': 'withdrawal', 'location': 'Lake Loganfort', 'mearchant': 'Johnson, Holloway and Wolf', 'card_number': '4396570695592119'}\n",
      "📩 Email Alert Sent Successfully!\n",
      "🚨 New Fraud Transaction Detected: {'_id': ObjectId('67ddbb4a0df8efa496296315'), 'transaction_id': '96fbbe38-5a97-429d-b4a3-049766268e8b', 'timestamp': 1742584649, 'user_id': 39850, 'amount': 4351.1, 'transaction_type': 'transfer', 'location': 'Hendersonside', 'mearchant': 'Dean, Taylor and Jones', 'card_number': '3540251468601042'}\n",
      "📩 Email Alert Sent Successfully!\n",
      "🚨 New Fraud Transaction Detected: {'_id': ObjectId('67ddbb4d0df8efa496296316'), 'transaction_id': '9e928e92-3102-47f3-bb3f-3d45b03a204e', 'timestamp': 1742584653, 'user_id': 22383, 'amount': 4919.29, 'transaction_type': 'transfer', 'location': 'Duncanside', 'mearchant': 'Brewer, Wilcox and Turner', 'card_number': '4006436008078943'}\n",
      "📩 Email Alert Sent Successfully!\n",
      "🚨 New Fraud Transaction Detected: {'_id': ObjectId('67ddbb510df8efa496296317'), 'transaction_id': 'd0a76ea8-76cc-41c1-87f8-cdba907b8481', 'timestamp': 1742584657, 'user_id': 63688, 'amount': 4813.96, 'transaction_type': 'transfer', 'location': 'Kevinton', 'mearchant': 'Shaw and Sons', 'card_number': '4813018817805949'}\n",
      "📩 Email Alert Sent Successfully!\n",
      "🚨 New Fraud Transaction Detected: {'_id': ObjectId('67ddbb540df8efa496296318'), 'transaction_id': '3a9e1b49-cfe3-4c79-a94a-30ced683882a', 'timestamp': 1742584660, 'user_id': 41758, 'amount': 4274.47, 'transaction_type': 'transfer', 'location': 'West Joanna', 'mearchant': 'Miller, Wu and Smith', 'card_number': '4221391900227727'}\n",
      "📩 Email Alert Sent Successfully!\n",
      "🚨 New Fraud Transaction Detected: {'_id': ObjectId('67ddbb5a0df8efa496296319'), 'transaction_id': '82bad584-1e09-46a5-b6ea-9f217cfe5da6', 'timestamp': 1742584666, 'user_id': 51568, 'amount': 4488.83, 'transaction_type': 'purchase', 'location': 'Heathertown', 'mearchant': 'Meyers LLC', 'card_number': '4439118928024419795'}\n",
      "📩 Email Alert Sent Successfully!\n",
      "🚨 New Fraud Transaction Detected: {'_id': ObjectId('67ddbb5d0df8efa49629631a'), 'transaction_id': '4ba2da74-cfec-421f-97b4-19c272370678', 'timestamp': 1742584668, 'user_id': 31654, 'amount': 4588.83, 'transaction_type': 'withdrawal', 'location': 'Port Matthewbury', 'mearchant': 'Brown-Rogers', 'card_number': '4069830819831934'}\n",
      "📩 Email Alert Sent Successfully!\n",
      "🚨 New Fraud Transaction Detected: {'_id': ObjectId('67ddbb5e0df8efa49629631b'), 'transaction_id': 'eea4669b-a7ca-4920-abd6-f9c8408a741b', 'timestamp': 1742584670, 'user_id': 79409, 'amount': 4177.53, 'transaction_type': 'withdrawal', 'location': 'South Olivia', 'mearchant': 'Crawford Inc', 'card_number': '213153653562538'}\n",
      "📩 Email Alert Sent Successfully!\n",
      "🚨 New Fraud Transaction Detected: {'_id': ObjectId('67ddbb640df8efa49629631c'), 'transaction_id': '80bcb660-1ea6-4ef2-8be2-d90b0535ca78', 'timestamp': 1742584676, 'user_id': 57448, 'amount': 4989.84, 'transaction_type': 'purchase', 'location': 'New Michelle', 'mearchant': 'Terry-Webster', 'card_number': '6542152607437804'}\n",
      "📩 Email Alert Sent Successfully!\n",
      "🚨 New Fraud Transaction Detected: {'_id': ObjectId('67ddbb680df8efa49629631d'), 'transaction_id': 'd9885faa-99cd-4a52-a142-dfeffca388a1', 'timestamp': 1742584680, 'user_id': 93466, 'amount': 4775.02, 'transaction_type': 'transfer', 'location': 'Shawton', 'mearchant': 'Flowers, Wilcox and Johnson', 'card_number': '4362401535824456'}\n",
      "📩 Email Alert Sent Successfully!\n",
      "🚨 New Fraud Transaction Detected: {'_id': ObjectId('67ddbb6c0df8efa49629631e'), 'transaction_id': 'ee607b01-4c0d-48b5-8726-466884e77b87', 'timestamp': 1742584684, 'user_id': 65744, 'amount': 4902.98, 'transaction_type': 'purchase', 'location': 'Port Kelly', 'mearchant': 'Brown-Hammond', 'card_number': '4828623315815598'}\n",
      "📩 Email Alert Sent Successfully!\n",
      "🚨 New Fraud Transaction Detected: {'_id': ObjectId('67ddbb710df8efa49629631f'), 'transaction_id': 'a8292bb7-ff33-45c1-9dbb-8e23e8d15b58', 'timestamp': 1742584689, 'user_id': 21799, 'amount': 4932.13, 'transaction_type': 'transfer', 'location': 'Lake Justinburgh', 'mearchant': 'Lester, Smith and Middleton', 'card_number': '213188540632367'}\n",
      "📩 Email Alert Sent Successfully!\n",
      "🚨 New Fraud Transaction Detected: {'_id': ObjectId('67ddbb720df8efa496296320'), 'transaction_id': '76d35a2b-0d3d-4543-ba60-a89691caa7ed', 'timestamp': 1742584690, 'user_id': 19469, 'amount': 4903.95, 'transaction_type': 'transfer', 'location': 'Andreamouth', 'mearchant': 'Perez Inc', 'card_number': '4924724501777288'}\n",
      "📩 Email Alert Sent Successfully!\n",
      "🚨 New Fraud Transaction Detected: {'_id': ObjectId('67ddbb760df8efa496296321'), 'transaction_id': '2c7e1ae9-2b82-4e93-854f-79e46e6ddb7f', 'timestamp': 1742584693, 'user_id': 69973, 'amount': 4097.29, 'transaction_type': 'purchase', 'location': 'Cohenberg', 'mearchant': 'Davis Inc', 'card_number': '3503305182271832'}\n",
      "📩 Email Alert Sent Successfully!\n",
      "🚨 New Fraud Transaction Detected: {'_id': ObjectId('67ddbb7b0df8efa496296322'), 'transaction_id': 'bf3cae66-4767-4444-92f0-34131dda7035', 'timestamp': 1742584699, 'user_id': 65055, 'amount': 4077.08, 'transaction_type': 'purchase', 'location': 'Rogerschester', 'mearchant': 'Andrade, Harding and Reeves', 'card_number': '4613585984853022832'}\n",
      "📩 Email Alert Sent Successfully!\n",
      "🚨 New Fraud Transaction Detected: {'_id': ObjectId('67ddbb800df8efa496296323'), 'transaction_id': '1af933df-40a1-4801-a40c-57ecc9b901ed', 'timestamp': 1742584704, 'user_id': 71498, 'amount': 4417.87, 'transaction_type': 'withdrawal', 'location': 'Cindyville', 'mearchant': 'Martinez, Gonzales and Ballard', 'card_number': '2720584147941700'}\n",
      "📩 Email Alert Sent Successfully!\n",
      "🚨 New Fraud Transaction Detected: {'_id': ObjectId('67ddbb910df8efa496296324'), 'transaction_id': '612bf813-c76c-40ef-ba65-a8d700debc78', 'timestamp': 1742584721, 'user_id': 34163, 'amount': 4961.99, 'transaction_type': 'withdrawal', 'location': 'Collinsbury', 'mearchant': 'Sparks, Mckinney and Olson', 'card_number': '4554810262829249'}\n",
      "📩 Email Alert Sent Successfully!\n",
      "🚨 New Fraud Transaction Detected: {'_id': ObjectId('67ddbba20df8efa496296325'), 'transaction_id': '95e77688-59ab-44c1-a7f3-6aba01346b1c', 'timestamp': 1742584737, 'user_id': 84085, 'amount': 4733.81, 'transaction_type': 'withdrawal', 'location': 'South Vickiefort', 'mearchant': 'Elliott-Huffman', 'card_number': '3509792395723556'}\n",
      "📩 Email Alert Sent Successfully!\n",
      "🚨 New Fraud Transaction Detected: {'_id': ObjectId('67ddbba50df8efa496296326'), 'transaction_id': 'fe3d7c5b-c97b-451a-b358-fde57930820f', 'timestamp': 1742584741, 'user_id': 84438, 'amount': 4642.83, 'transaction_type': 'withdrawal', 'location': 'Martineztown', 'mearchant': 'Campbell Group', 'card_number': '3557775062476427'}\n",
      "📩 Email Alert Sent Successfully!\n",
      "🚨 New Fraud Transaction Detected: {'_id': ObjectId('67ddbba80df8efa496296327'), 'transaction_id': 'a1bcb251-ce56-4804-9676-3b34a68ddf97', 'timestamp': 1742584743, 'user_id': 58481, 'amount': 4890.39, 'transaction_type': 'purchase', 'location': 'Vincentbury', 'mearchant': 'Ross Inc', 'card_number': '213121726104885'}\n",
      "📩 Email Alert Sent Successfully!\n",
      "🚨 New Fraud Transaction Detected: {'_id': ObjectId('67ddbbae0df8efa496296328'), 'transaction_id': '3d0c0f37-f657-40ca-bc6f-6e6f15fb84c2', 'timestamp': 1742584749, 'user_id': 39969, 'amount': 4099.06, 'transaction_type': 'withdrawal', 'location': 'Wilsonville', 'mearchant': 'Beasley, Carroll and Washington', 'card_number': '675970505698'}\n",
      "📩 Email Alert Sent Successfully!\n",
      "🚨 New Fraud Transaction Detected: {'_id': ObjectId('67ddbbb60df8efa496296329'), 'transaction_id': '04c5e807-8edb-4a71-826c-dd227092f7d7', 'timestamp': 1742584758, 'user_id': 83447, 'amount': 4782.61, 'transaction_type': 'withdrawal', 'location': 'Port Micheleside', 'mearchant': 'White, Simpson and Sanders', 'card_number': '4082892744682421'}\n",
      "📩 Email Alert Sent Successfully!\n",
      "🚨 New Fraud Transaction Detected: {'_id': ObjectId('67ddbbbc0df8efa49629632a'), 'transaction_id': '3c4cee2e-3f86-419f-8371-ad8fdc716f52', 'timestamp': 1742584764, 'user_id': 70296, 'amount': 4499.07, 'transaction_type': 'withdrawal', 'location': 'East Shaunstad', 'mearchant': 'Brown LLC', 'card_number': '3520056129025927'}\n",
      "📩 Email Alert Sent Successfully!\n",
      "🚨 New Fraud Transaction Detected: {'_id': ObjectId('67ddbbbd0df8efa49629632b'), 'transaction_id': 'b424348b-39b2-4fd5-bbf3-e2a40da9e0d9', 'timestamp': 1742584765, 'user_id': 80747, 'amount': 4318.54, 'transaction_type': 'transfer', 'location': 'North Ericshire', 'mearchant': 'Grant-Harper', 'card_number': '4967675961076983'}\n",
      "📩 Email Alert Sent Successfully!\n",
      "🚨 New Fraud Transaction Detected: {'_id': ObjectId('67ddbbc30df8efa49629632c'), 'transaction_id': 'd77306e5-5bc9-446a-9f56-bb672aab2ec4', 'timestamp': 1742584771, 'user_id': 55200, 'amount': 4708.41, 'transaction_type': 'transfer', 'location': 'Leemouth', 'mearchant': 'Clark-Beasley', 'card_number': '342936904789387'}\n",
      "📩 Email Alert Sent Successfully!\n",
      "🚨 New Fraud Transaction Detected: {'_id': ObjectId('67ddbbc90df8efa49629632d'), 'transaction_id': '5d2c81e9-10fe-4b64-bff6-6c414b7cca25', 'timestamp': 1742584777, 'user_id': 56705, 'amount': 4105.56, 'transaction_type': 'purchase', 'location': 'Ramirezport', 'mearchant': 'Miller-Scott', 'card_number': '4925161414622411819'}\n",
      "📩 Email Alert Sent Successfully!\n",
      "🚨 New Fraud Transaction Detected: {'_id': ObjectId('67ddbbd20df8efa49629632e'), 'transaction_id': 'a7c872ef-928b-4c00-bca2-3e9b898e102d', 'timestamp': 1742584786, 'user_id': 81814, 'amount': 4436.43, 'transaction_type': 'withdrawal', 'location': 'Jenniferberg', 'mearchant': 'Wade Group', 'card_number': '4759818406825969080'}\n",
      "📩 Email Alert Sent Successfully!\n",
      "🚨 New Fraud Transaction Detected: {'_id': ObjectId('67ddbbd50df8efa49629632f'), 'transaction_id': 'a86a45ac-baf5-4984-bba7-1acbac00dffb', 'timestamp': 1742584789, 'user_id': 36337, 'amount': 4660.71, 'transaction_type': 'purchase', 'location': 'Brookschester', 'mearchant': 'Sherman, Aguirre and Cantrell', 'card_number': '344890648332285'}\n",
      "📩 Email Alert Sent Successfully!\n",
      "🚨 New Fraud Transaction Detected: {'_id': ObjectId('67ddbbd70df8efa496296330'), 'transaction_id': '2d3bff59-8c06-4efc-8239-3a823ae323e8', 'timestamp': 1742584791, 'user_id': 23425, 'amount': 4879.66, 'transaction_type': 'transfer', 'location': 'Lake Melissaland', 'mearchant': 'Nguyen, Johnson and Walker', 'card_number': '501874851246'}\n",
      "📩 Email Alert Sent Successfully!\n",
      "🚨 New Fraud Transaction Detected: {'_id': ObjectId('67ddbbd80df8efa496296331'), 'transaction_id': 'a5a643c7-9c8f-41cd-8233-6df2d35ad3af', 'timestamp': 1742584792, 'user_id': 24538, 'amount': 4962.22, 'transaction_type': 'transfer', 'location': 'Cathytown', 'mearchant': 'Graves-Steele', 'card_number': '6011418068014339'}\n",
      "📩 Email Alert Sent Successfully!\n",
      "🚨 New Fraud Transaction Detected: {'_id': ObjectId('67ddbbdc0df8efa496296332'), 'transaction_id': 'b347d4b4-2fdd-4748-9a5a-0e4aeb86ff62', 'timestamp': 1742584796, 'user_id': 95861, 'amount': 4711.27, 'transaction_type': 'purchase', 'location': 'Martinfort', 'mearchant': 'Wu-Juarez', 'card_number': '4293633857704890'}\n",
      "📩 Email Alert Sent Successfully!\n",
      "🚨 New Fraud Transaction Detected: {'_id': ObjectId('67ddbbdd0df8efa496296333'), 'transaction_id': 'a25a1a05-3b12-41f4-bfe7-da23b7bbfcbe', 'timestamp': 1742584797, 'user_id': 93956, 'amount': 4277.86, 'transaction_type': 'purchase', 'location': 'West Sherrychester', 'mearchant': 'Robinson Group', 'card_number': '4763422581458788'}\n",
      "📩 Email Alert Sent Successfully!\n",
      "🚨 New Fraud Transaction Detected: {'_id': ObjectId('67ddbbe20df8efa496296334'), 'transaction_id': '0e78b5fa-0328-4855-b672-22429048404f', 'timestamp': 1742584802, 'user_id': 94042, 'amount': 4431.8, 'transaction_type': 'withdrawal', 'location': 'Moralesborough', 'mearchant': 'Wilson Inc', 'card_number': '4505202541169'}\n",
      "📩 Email Alert Sent Successfully!\n"
     ]
    },
    {
     "data": {
      "text/html": [
       "<style scoped>\n",
       "  .ansiout {\n",
       "    display: block;\n",
       "    unicode-bidi: embed;\n",
       "    white-space: pre-wrap;\n",
       "    word-wrap: break-word;\n",
       "    word-break: break-all;\n",
       "    font-family: \"Menlo\", \"Monaco\", \"Consolas\", \"Ubuntu Mono\", \"Source Code Pro\", monospace;\n",
       "    font-size: 13px;\n",
       "    color: #555;\n",
       "    margin-left: 4px;\n",
       "    line-height: 19px;\n",
       "  }\n",
       "</style>"
      ]
     },
     "metadata": {
      "application/vnd.databricks.v1+output": {
       "arguments": {},
       "data": "",
       "errorSummary": "Cancelled",
       "errorTraceType": "html",
       "metadata": {},
       "type": "ipynbError"
      }
     },
     "output_type": "display_data"
    }
   ],
   "source": [
    "from pymongo import MongoClient\n",
    "import smtplib\n",
    "from email.mime.text import MIMEText\n",
    "import time \n",
    "\n",
    "SMTP_SERVER = \"smtp.gmail.com\"  # Using Gmail's SMTP server\n",
    "SMTP_PORT = 587\n",
    "EMAIL_SENDER = \"pradumkumar0612@gmail.com\"  # Replace with your email\n",
    "EMAIL_PASSWORD = \"Replace with your email app password\"\n",
    "EMAIL_RECEIVER = \"pradumjaiswar790@gmail.com\"  # Replace with recipient email\n",
    "\n",
    "\n",
    "def send_email_alert(transaction):\n",
    "    subject = \"🚨 Fraud Alert: Suspicious Transaction Detected!\"\n",
    "    body = f\"\"\"\n",
    "    🚨 **FRAUD DETECTED** 🚨\n",
    "    -----------------------------------\n",
    "    - **Transaction ID**: {transaction['transaction_id']}\n",
    "    - **User ID**: {transaction['user_id']}\n",
    "    - **Amount**: ${transaction['amount']}\n",
    "    - **Merchant**: {transaction['mearchant']}\n",
    "    - **Location**: {transaction['location']}\n",
    "    -----------------------------------\n",
    "    Please review this transaction immediately.\n",
    "    \"\"\"\n",
    "    \n",
    "    msg = MIMEText(body, \"plain\")\n",
    "    msg[\"Subject\"] = subject\n",
    "    msg[\"From\"] = EMAIL_SENDER\n",
    "    msg[\"To\"] = EMAIL_RECEIVER\n",
    "\n",
    "    try:\n",
    "        server = smtplib.SMTP(SMTP_SERVER, SMTP_PORT)\n",
    "        server.starttls()  # Secure the connection\n",
    "        server.login(EMAIL_SENDER, EMAIL_PASSWORD)\n",
    "        server.sendmail(EMAIL_SENDER, EMAIL_RECEIVER, msg.as_string())\n",
    "        server.quit()\n",
    "        print(\"📩 Email Alert Sent Successfully!\")\n",
    "    except Exception as e:\n",
    "        print(f\"❌ Failed to send email: {e}\")\n",
    "\n",
    "# ✅ MongoDB Configuration\n",
    "MONGO_URI = \"Replace with your mongodb uri.\"\n",
    "MONGO_DB = \"txn_db\"\n",
    "MONGO_COLLECTION = \"fraud_alerts\"\n",
    "\n",
    "client = MongoClient(MONGO_URI)\n",
    "db = client[MONGO_DB]\n",
    "collection = db[MONGO_COLLECTION]\n",
    "collection_non_fraud = db[\"non_fraud\"]\n",
    "\n",
    "def monitor_fraud_transactions():\n",
    "    print(\"🚀 Monitoring MongoDB for Fraud Transactions...\")\n",
    "    last_checked_id = None  # Keep track of the last checked transaction\n",
    "\n",
    "    while True:\n",
    "        # Get the latest fraud transaction\n",
    "        latest_fraud = collection.find_one(sort=[(\"_id\", -1)])  # Fetch the latest inserted document\n",
    "\n",
    "        if latest_fraud and latest_fraud[\"_id\"] != last_checked_id:\n",
    "            print(\"🚨 New Fraud Transaction Detected:\", latest_fraud)\n",
    "            send_email_alert(latest_fraud)  # Send Email Alert\n",
    "            last_checked_id = latest_fraud[\"_id\"]  # Update last checked transaction ID\n",
    "\n",
    "        time.sleep(1)  # Check every 10 seconds\n",
    "\n",
    "monitor_fraud_transactions()"
   ]
  },
  {
   "cell_type": "code",
   "execution_count": 0,
   "metadata": {
    "application/vnd.databricks.v1+cell": {
     "cellMetadata": {
      "byteLimit": 2048000,
      "rowLimit": 10000
     },
     "inputWidgets": {},
     "nuid": "3937428d-d597-4cb4-a02e-55f8ed69c770",
     "showTitle": false,
     "tableResultSettingsMap": {},
     "title": ""
    }
   },
   "outputs": [
    {
     "name": "stdout",
     "output_type": "stream",
     "text": [
      "Python interpreter will be restarted.\n",
      "Collecting pymongo\n",
      "  Using cached pymongo-4.11.3-cp39-cp39-manylinux_2_17_x86_64.manylinux2014_x86_64.whl (921 kB)\n",
      "Collecting dnspython<3.0.0,>=1.16.0\n",
      "  Using cached dnspython-2.7.0-py3-none-any.whl (313 kB)\n",
      "Installing collected packages: dnspython, pymongo\n",
      "Successfully installed dnspython-2.7.0 pymongo-4.11.3\n",
      "Python interpreter will be restarted.\n"
     ]
    }
   ],
   "source": [
    "pip install pymongo"
   ]
  },
  {
   "cell_type": "code",
   "execution_count": 0,
   "metadata": {
    "application/vnd.databricks.v1+cell": {
     "cellMetadata": {},
     "inputWidgets": {},
     "nuid": "9457a927-9661-49b4-b947-9c47547ed4f9",
     "showTitle": false,
     "tableResultSettingsMap": {},
     "title": ""
    }
   },
   "outputs": [],
   "source": []
  }
 ],
 "metadata": {
  "application/vnd.databricks.v1+notebook": {
   "computePreferences": null,
   "dashboards": [],
   "environmentMetadata": {
    "base_environment": "",
    "client": "1"
   },
   "language": "python",
   "notebookMetadata": {
    "pythonIndentUnit": 4
   },
   "notebookName": "send alert",
   "widgets": {}
  },
  "language_info": {
   "name": "python"
  }
 },
 "nbformat": 4,
 "nbformat_minor": 0
}
